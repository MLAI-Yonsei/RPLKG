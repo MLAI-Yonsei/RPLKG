{
 "cells": [
  {
   "cell_type": "code",
   "execution_count": 2,
   "id": "86d8abb1",
   "metadata": {},
   "outputs": [
    {
     "name": "stdout",
     "output_type": "stream",
     "text": [
      " attended_prompt.npy\t\t   load_worst_group_sents.ipynb\r\n",
      " classnames.txt\t\t\t   lpclip\r\n",
      " clip\t\t\t\t   output\r\n",
      " COCOOP.md\t\t\t   parse_test_res.py\r\n",
      " configs\t\t\t   prompt_features.npy\r\n",
      " coop_env.yaml\t\t\t   __pycache__\r\n",
      " COOP.md\t\t\t   README.md\r\n",
      " dassl\t\t\t\t   requirements.txt\r\n",
      " data\t\t\t\t   scripts\r\n",
      " data_load.py\t\t\t   sents.csv\r\n",
      " datasets\t\t\t  'test.py '\r\n",
      " DATASETS.md\t\t\t   test.sh\r\n",
      " draw_curves.py\t\t\t   text_features.pkl\r\n",
      " get-pip.py\t\t\t   torch_dassl\r\n",
      " get_sents_for_all_classes.ipynb   trainers\r\n",
      " get_text_embeddings.ipynb\t   train.py\r\n",
      " imagenet_features.npy\t\t   Untitled1.ipynb\r\n",
      " imagenet_features_val.npy\t   Untitled.ipynb\r\n",
      " imgnet_feat_100.npy\t\t   wandb\r\n",
      " interpret_prompt.py\t\t   worst_sents.csv\r\n",
      " LICENSE\t\t\t   worst_sents_with_correct.csv\r\n"
     ]
    }
   ],
   "source": [
    "!ls"
   ]
  },
  {
   "cell_type": "code",
   "execution_count": null,
   "id": "1ce2aa8b",
   "metadata": {},
   "outputs": [],
   "source": [
    "import pandas as pd\n",
    "from clip import load_clip_to_cpu"
   ]
  },
  {
   "cell_type": "code",
   "execution_count": 3,
   "id": "4cbbe39c",
   "metadata": {},
   "outputs": [],
   "source": [
    "device = 'cuda:7'"
   ]
  },
  {
   "cell_type": "code",
   "execution_count": null,
   "id": "c8c9358d",
   "metadata": {},
   "outputs": [],
   "source": [
    "df = pd.read_csv('sents.csv', encoding='utf-8')"
   ]
  },
  {
   "cell_type": "code",
   "execution_count": 5,
   "id": "f8f7f14b",
   "metadata": {},
   "outputs": [
    {
     "data": {
      "text/plain": [
       "False"
      ]
     },
     "execution_count": 5,
     "metadata": {},
     "output_type": "execute_result"
    }
   ],
   "source": [
    "a = True\n",
    "not a"
   ]
  }
 ],
 "metadata": {
  "kernelspec": {
   "display_name": "Python 3 (ipykernel)",
   "language": "python",
   "name": "python3"
  },
  "language_info": {
   "codemirror_mode": {
    "name": "ipython",
    "version": 3
   },
   "file_extension": ".py",
   "mimetype": "text/x-python",
   "name": "python",
   "nbconvert_exporter": "python",
   "pygments_lexer": "ipython3",
   "version": "3.8.10"
  }
 },
 "nbformat": 4,
 "nbformat_minor": 5
}
