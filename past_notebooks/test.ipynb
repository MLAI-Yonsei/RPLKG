{
 "cells": [
  {
   "cell_type": "code",
   "execution_count": 3,
   "metadata": {},
   "outputs": [],
   "source": [
    "import torch\n",
    "import random\n",
    "import numpy as np"
   ]
  },
  {
   "cell_type": "code",
   "execution_count": 3,
   "metadata": {},
   "outputs": [],
   "source": [
    "a = torch.randn(3,3)\n",
    "b = a > 0\n",
    "indices = b.nonzero()#.squeeze()\n"
   ]
  },
  {
   "cell_type": "code",
   "execution_count": 57,
   "metadata": {},
   "outputs": [
    {
     "name": "stdout",
     "output_type": "stream",
     "text": [
      "tensor([[[2, 1],\n",
      "         [0, 2],\n",
      "         [1, 3]],\n",
      "\n",
      "        [[3, 2],\n",
      "         [3, 0],\n",
      "         [3, 0]],\n",
      "\n",
      "        [[2, 0],\n",
      "         [1, 0],\n",
      "         [0, 3]]])\n",
      "tensor([[[0.7402],\n",
      "         [0.6753],\n",
      "         [0.3644]],\n",
      "\n",
      "        [[0.3227],\n",
      "         [0.3129],\n",
      "         [0.4645]],\n",
      "\n",
      "        [[0.5255],\n",
      "         [0.3059],\n",
      "         [0.3555]]])\n"
     ]
    }
   ],
   "source": [
    "logits = torch.randn(3,3,4)\n",
    "y_soft = logits.softmax(dim=-1)\n",
    "index = y_soft.topk(2, dim=-1)[1]\n",
    "value = y_soft.max(-1, keepdim=True)[0]\n",
    "y_hard = torch.zeros_like(logits, memory_format=torch.legacy_contiguous_format).scatter_(-1, index, 1.0)\n",
    "print(index)\n",
    "print(value)"
   ]
  },
  {
   "cell_type": "code",
   "execution_count": 62,
   "metadata": {},
   "outputs": [
    {
     "name": "stdout",
     "output_type": "stream",
     "text": [
      "tensor([[[0.0131, 0.1310, 0.7402, 0.1157],\n",
      "         [0.6753, 0.0072, 0.2931, 0.0244],\n",
      "         [0.2938, 0.3644, 0.0451, 0.2967]],\n",
      "\n",
      "        [[0.2521, 0.1295, 0.2957, 0.3227],\n",
      "         [0.2718, 0.1828, 0.2324, 0.3129],\n",
      "         [0.3022, 0.1450, 0.0884, 0.4645]],\n",
      "\n",
      "        [[0.1806, 0.1308, 0.5255, 0.1632],\n",
      "         [0.2589, 0.3059, 0.2028, 0.2325],\n",
      "         [0.3555, 0.2058, 0.1942, 0.2445]]])\n",
      "tensor([[[False, False,  True, False],\n",
      "         [ True, False, False, False],\n",
      "         [ True,  True, False,  True]],\n",
      "\n",
      "        [[ True, False,  True,  True],\n",
      "         [ True,  True,  True,  True],\n",
      "         [ True, False, False,  True]],\n",
      "\n",
      "        [[False, False,  True, False],\n",
      "         [ True,  True,  True,  True],\n",
      "         [ True,  True,  True,  True]]])\n"
     ]
    },
    {
     "data": {
      "text/plain": [
       "tensor([[[0., 0., 1., 0.],\n",
       "         [1., 0., 0., 0.],\n",
       "         [1., 1., 0., 1.]],\n",
       "\n",
       "        [[1., 0., 1., 1.],\n",
       "         [1., 1., 1., 1.],\n",
       "         [1., 0., 0., 1.]],\n",
       "\n",
       "        [[0., 0., 1., 0.],\n",
       "         [1., 1., 1., 1.],\n",
       "         [1., 1., 1., 1.]]])"
      ]
     },
     "execution_count": 62,
     "metadata": {},
     "output_type": "execute_result"
    }
   ],
   "source": [
    "print(y_soft)\n",
    "a = y_soft > value*0.5\n",
    "print(a)\n",
    "a.float()"
   ]
  },
  {
   "cell_type": "code",
   "execution_count": 24,
   "metadata": {},
   "outputs": [
    {
     "name": "stdout",
     "output_type": "stream",
     "text": [
      "tensor([1., 1., 1.])\n",
      "tensor([1., 1., 1.])\n"
     ]
    },
    {
     "data": {
      "text/plain": [
       "tensor([[-0.9314,  0.2716,  0.4498],\n",
       "        [ 0.7469,  1.5423, -0.2700],\n",
       "        [-0.6776,  0.7892, -1.2002]])"
      ]
     },
     "execution_count": 24,
     "metadata": {},
     "output_type": "execute_result"
    }
   ],
   "source": [
    "sbp = torch.ones(3)\n",
    "dbp = torch.ones(3)\n",
    "ppg = torch.randn(3, 3)\n",
    "max_1 = 10\n",
    "min_1 = 3\n",
    "print(sbp)\n",
    "print(dbp)\n",
    "ppg"
   ]
  },
  {
   "cell_type": "code",
   "execution_count": 25,
   "metadata": {},
   "outputs": [],
   "source": [
    "sbp = (sbp - 80) / (200 - 80)\n",
    "sbp = sbp * (max_1 - min_1) + min_1\n",
    "\n",
    "dbp = (dbp - 40) / (120 - 40)\n",
    "dbp = dbp * (max_1 - min_1) + min_1\n",
    "ppg = np.asarray(ppg)\n",
    "ppg = (ppg - ppg.min(axis=0)) / (ppg.max(axis=0) - ppg.min(axis=0))\n",
    "ppg = ppg * (max_1 - min_1) + min_1\n",
    "ppg = list(ppg)\n"
   ]
  },
  {
   "cell_type": "code",
   "execution_count": 26,
   "metadata": {},
   "outputs": [
    {
     "data": {
      "text/plain": [
       "tensor([-0.4125, -0.4125, -0.4125])"
      ]
     },
     "execution_count": 26,
     "metadata": {},
     "output_type": "execute_result"
    }
   ],
   "source": [
    "dbp"
   ]
  },
  {
   "cell_type": "code",
   "execution_count": 28,
   "metadata": {},
   "outputs": [
    {
     "data": {
      "text/plain": [
       "tensor([1., 1., 1.])"
      ]
     },
     "execution_count": 28,
     "metadata": {},
     "output_type": "execute_result"
    }
   ],
   "source": [
    "((dbp - min_1)/(max_1 - min_1))*(120 - 40) + 40"
   ]
  },
  {
   "cell_type": "code",
   "execution_count": 82,
   "metadata": {},
   "outputs": [
    {
     "ename": "RuntimeError",
     "evalue": "The size of tensor a (512) must match the size of tensor b (1000) at non-singleton dimension 2",
     "output_type": "error",
     "traceback": [
      "\u001b[0;31m---------------------------------------------------------------------------\u001b[0m",
      "\u001b[0;31mRuntimeError\u001b[0m                              Traceback (most recent call last)",
      "Cell \u001b[0;32mIn [82], line 3\u001b[0m\n\u001b[1;32m      1\u001b[0m a \u001b[39m=\u001b[39m torch\u001b[39m.\u001b[39mones(\u001b[39m1000\u001b[39m, \u001b[39m64\u001b[39m, \u001b[39m512\u001b[39m)\n\u001b[1;32m      2\u001b[0m b \u001b[39m=\u001b[39m torch\u001b[39m.\u001b[39mrandn(\u001b[39m512\u001b[39m,\u001b[39m838\u001b[39m,\u001b[39m1000\u001b[39m)\n\u001b[0;32m----> 3\u001b[0m a\u001b[39m*\u001b[39;49mb\n",
      "\u001b[0;31mRuntimeError\u001b[0m: The size of tensor a (512) must match the size of tensor b (1000) at non-singleton dimension 2"
     ]
    }
   ],
   "source": [
    "a = torch.ones(1000, 64, 512)\n",
    "b = torch.randn(512,838,1000)\n",
    "a*b\n"
   ]
  },
  {
   "cell_type": "code",
   "execution_count": null,
   "metadata": {},
   "outputs": [],
   "source": []
  }
 ],
 "metadata": {
  "kernelspec": {
   "display_name": "Python 3.8.12 ('torch')",
   "language": "python",
   "name": "python3"
  },
  "language_info": {
   "codemirror_mode": {
    "name": "ipython",
    "version": 3
   },
   "file_extension": ".py",
   "mimetype": "text/x-python",
   "name": "python",
   "nbconvert_exporter": "python",
   "pygments_lexer": "ipython3",
   "version": "3.8.12"
  },
  "orig_nbformat": 4,
  "vscode": {
   "interpreter": {
    "hash": "3667b5851eb259a0c751d37858c7c72c29fea5b91a7c190c90ab64f993f6645d"
   }
  }
 },
 "nbformat": 4,
 "nbformat_minor": 2
}
